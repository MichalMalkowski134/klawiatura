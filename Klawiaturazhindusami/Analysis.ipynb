{
 "cells": [
  {
   "cell_type": "code",
   "execution_count": 40,
   "id": "74258359",
   "metadata": {},
   "outputs": [],
   "source": [
    "import pandas as pd\n",
    "import numpy as np\n",
    "import matplotlib.pyplot as plt\n",
    "from sklearn.model_selection import train_test_split\n",
    "from sklearn.model_selection import GridSearchCV\n",
    "from scipy.optimize import brentq\n",
    "from scipy.interpolate import interp1d\n",
    "from sklearn.metrics import accuracy_score, roc_curve, auc\n",
    "from sklearn.decomposition import PCA\n",
    "from sklearn.neighbors import KNeighborsClassifier\n",
    "from sklearn.model_selection import cross_val_score\n",
    "from scipy.spatial.distance import euclidean, cityblock\n",
    "import sqlite3\n",
    "from tkinter import Tk, Label\n",
    "\n",
    "plt.style.use('ggplot')\n",
    "%matplotlib inline"
   ]
  },
  {
   "cell_type": "code",
   "execution_count": 41,
   "id": "e8f7b0d3",
   "metadata": {},
   "outputs": [],
   "source": [
    "con = sqlite3.connect(\"key.db\")\n",
    "cur = con.cursor()"
   ]
  },
  {
   "cell_type": "code",
   "execution_count": 42,
   "id": "8ee333c5",
   "metadata": {},
   "outputs": [
    {
     "data": {
      "text/html": [
       "<div>\n",
       "<style scoped>\n",
       "    .dataframe tbody tr th:only-of-type {\n",
       "        vertical-align: middle;\n",
       "    }\n",
       "\n",
       "    .dataframe tbody tr th {\n",
       "        vertical-align: top;\n",
       "    }\n",
       "\n",
       "    .dataframe thead th {\n",
       "        text-align: right;\n",
       "    }\n",
       "</style>\n",
       "<table border=\"1\" class=\"dataframe\">\n",
       "  <thead>\n",
       "    <tr style=\"text-align: right;\">\n",
       "      <th></th>\n",
       "      <th>subject</th>\n",
       "      <th>key</th>\n",
       "      <th>H</th>\n",
       "      <th>UD</th>\n",
       "      <th>DD</th>\n",
       "    </tr>\n",
       "  </thead>\n",
       "  <tbody>\n",
       "    <tr>\n",
       "      <th>0</th>\n",
       "      <td>lol</td>\n",
       "      <td>t</td>\n",
       "      <td>0.156</td>\n",
       "      <td>0.141</td>\n",
       "      <td>0.297</td>\n",
       "    </tr>\n",
       "    <tr>\n",
       "      <th>1</th>\n",
       "      <td>lol</td>\n",
       "      <td>o</td>\n",
       "      <td>0.078</td>\n",
       "      <td>0.500</td>\n",
       "      <td>0.578</td>\n",
       "    </tr>\n",
       "    <tr>\n",
       "      <th>2</th>\n",
       "      <td>lol</td>\n",
       "      <td>j</td>\n",
       "      <td>0.094</td>\n",
       "      <td>0.375</td>\n",
       "      <td>0.469</td>\n",
       "    </tr>\n",
       "    <tr>\n",
       "      <th>3</th>\n",
       "      <td>lol</td>\n",
       "      <td>j</td>\n",
       "      <td>0.125</td>\n",
       "      <td>0.125</td>\n",
       "      <td>0.250</td>\n",
       "    </tr>\n",
       "    <tr>\n",
       "      <th>4</th>\n",
       "      <td>lol</td>\n",
       "      <td>a</td>\n",
       "      <td>0.156</td>\n",
       "      <td>0.328</td>\n",
       "      <td>0.484</td>\n",
       "    </tr>\n",
       "  </tbody>\n",
       "</table>\n",
       "</div>"
      ],
      "text/plain": [
       "  subject key      H     UD     DD\n",
       "0     lol   t  0.156  0.141  0.297\n",
       "1     lol   o  0.078  0.500  0.578\n",
       "2     lol   j  0.094  0.375  0.469\n",
       "3     lol   j  0.125  0.125  0.250\n",
       "4     lol   a  0.156  0.328  0.484"
      ]
     },
     "execution_count": 42,
     "metadata": {},
     "output_type": "execute_result"
    }
   ],
   "source": [
    "df = pd.read_sql('SELECT * FROM KeyStrokeDistance', con)\n",
    "subject = df['subject']\n",
    "df.head()\n",
    "df2 = pd.read_sql('SELECT * FROM KeyStrokeDistanceVerification', con)\n",
    "subject2 = df2['subject']\n",
    "df2.head()"
   ]
  },
  {
   "cell_type": "code",
   "execution_count": 43,
   "id": "61970bae",
   "metadata": {},
   "outputs": [],
   "source": [
    "class ManhattanDetector:\n",
    "\n",
    "    def __init__(self, subjects, data, data2):\n",
    "        self.user_scores = []\n",
    "        self.imposter_scores = []\n",
    "        self.mean_vector = []\n",
    "        self.subjects = subjects\n",
    "        self.data = data\n",
    "        self.data2 = data2\n",
    "    \n",
    "    def training(self):\n",
    "        self.mean_vector = self.train.mean().values  \n",
    "        \n",
    "    def evaluateSet1(self):\n",
    "        eers = []\n",
    "        for subject in self.subjects:\n",
    "            genuine_user_data = self.data.loc[self.data.subject == subject, \"H\" : \"DD\"]\n",
    "            genuine_user_data2 = self.data2.loc[self.data.subject == subject, \"H\" : \"DD\"]\n",
    "            imposter_data = self.data.loc[self.data.subject != subject, :]\n",
    "            #lengthData = int(len(genuine_user_data)*0.7)\n",
    "            self.train        = genuine_user_data#[:lengthData]\n",
    "            self.test_genuine = genuine_user_data2#[lengthData+1:]\n",
    "            self.test_imposter = imposter_data.groupby(\"subject\").head(5).loc[:, \"H\":\"DD\"]\n",
    "            self.training()\n",
    "            self.testing()\n",
    "            labels = [0]*len(self.user_scores) + [1]*len(self.imposter_scores)\n",
    "            fpr, tpr, thresholds = roc_curve(labels, self.user_scores + self.imposter_scores)\n",
    "        return fpr, tpr, thresholds, self.user_scores\n",
    "    \n",
    "    \n",
    "    \n",
    "    def testing(self):\n",
    "        for i in range(self.test_genuine.shape[0]):\n",
    "            cur_score = cityblock(self.test_genuine.iloc[i].values, self.train.iloc[i].values)\n",
    "            self.user_scores.append(cur_score)\n",
    "\n",
    "        for i in range(self.test_imposter.shape[0]):\n",
    "            cur_score = cityblock(self.test_imposter.iloc[i].values, self.mean_vector)\n",
    "            self.imposter_scores.append(cur_score)"
   ]
  },
  {
   "cell_type": "code",
   "execution_count": 44,
   "id": "0b06fa9c",
   "metadata": {},
   "outputs": [],
   "source": [
    "#getting values for Manhattan distance\n",
    "\n",
    "#data1 = pd.read_csv(DATASET_1)\n",
    "data1 = df\n",
    "subjects1 = data1[\"subject\"].unique()\n",
    "#data2 = pd.read_csv(DATASET_2)\n",
    "data2 = df2\n",
    "subjects2 = data2[\"subject\"].unique()\n",
    "\n"
   ]
  },
  {
   "cell_type": "code",
   "execution_count": 45,
   "id": "aaeacd87",
   "metadata": {},
   "outputs": [],
   "source": [
    "class GUI:\n",
    "    def __init__(self, master, text):\n",
    "        self.master = master\n",
    "        master.title(\"Weryfikacja\")\n",
    "        self.label = Label(master, text=text, font=('bold', 48), bg='LightSkyBlue3')\n",
    "        self.label.pack()\n"
   ]
  },
  {
   "cell_type": "code",
   "execution_count": 46,
   "id": "e37d9c36",
   "metadata": {},
   "outputs": [
    {
     "name": "stdout",
     "output_type": "stream",
     "text": [
      "[0.09399999999999999, 0.061999999999999944, 0.596, 0.312, 0.28, 0.75, 0.40800000000000003, 0.6559999999999999, 2.436, 0.0, 1.5939999999999999, 0.032000000000000015, 0.28200000000000003, 0.15599999999999997, 0.28400000000000003, 0.532, 0.188, 0.126]\n",
      "33\n",
      "18\n"
     ]
    }
   ],
   "source": [
    "fpr1_1, tpr1_1, thresholds1_1, score = ManhattanDetector(subjects1, data1, data2).evaluateSet1()\n",
    "eer1_1 = brentq(lambda x : 1. - x - interp1d(fpr1_1, tpr1_1)(x), 0., 1.)\n",
    "points = 0\n",
    "for elem in score:\n",
    "    if elem<0.2:\n",
    "        points+=3\n",
    "    elif elem>=0.2 and elem<0.4:\n",
    "        points+=2\n",
    "    elif elem>=0.4 and elem<0.7:\n",
    "        points+=1\n",
    "print(score)\n",
    "print(points)\n",
    "print(len(score))\n",
    "\n",
    "if points>=len(score)*2.25:\n",
    "    text = \"Zweryfikowano\\npomyślnie!\"\n",
    "else:\n",
    "    text = \"Negatywna\\nweryfikacja!\"\n",
    "\n",
    "root = Tk()\n",
    "my_gui = GUI(root, text)\n",
    "root.mainloop()\n",
    "\n",
    "\n",
    "\n",
    "    "
   ]
  },
  {
   "cell_type": "code",
   "execution_count": 47,
   "id": "cd85c3cd",
   "metadata": {},
   "outputs": [
    {
     "data": {
      "image/png": "[encoded data removed]",
      "text/plain": [
       "<Figure size 1000x500 with 1 Axes>"
      ]
     },
     "metadata": {},
     "output_type": "display_data"
    }
   ],
   "source": [
    "plt.figure(figsize = (10,5))\n",
    "plt.plot([0, 1], [0, 1], 'k--')\n",
    "plt.plot(fpr1_1, tpr1_1, label='AUC = {:.3f}, EER = {:.3f} Set-1-Manhattan'.format(auc(fpr1_1, tpr1_1), eer1_1))\n",
    "\n",
    "plt.xlabel('False positive rate')\n",
    "plt.ylabel('True positive rate')\n",
    "plt.title('ROC curve for dataset 1')\n",
    "plt.legend(loc='best')\n",
    "plt.show()"
   ]
  },
  {
   "cell_type": "code",
   "execution_count": null,
   "id": "edc282aa",
   "metadata": {},
   "outputs": [],
   "source": []
  }
 ],
 "metadata": {
  "kernelspec": {
   "display_name": "Python 3 (ipykernel)",
   "language": "python",
   "name": "python3"
  },
  "language_info": {
   "codemirror_mode": {
    "name": "ipython",
    "version": 3
   },
   "file_extension": ".py",
   "mimetype": "text/x-python",
   "name": "python",
   "nbconvert_exporter": "python",
   "pygments_lexer": "ipython3",
   "version": "3.9.13"
  }
 },
 "nbformat": 4,
 "nbformat_minor": 5
}
