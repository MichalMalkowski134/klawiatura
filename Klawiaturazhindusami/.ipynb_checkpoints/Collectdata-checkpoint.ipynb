{
 "cells": [
  {
   "cell_type": "code",
   "execution_count": 1,
   "id": "124d4741",
   "metadata": {},
   "outputs": [],
   "source": [
    "import pyWinhook as pyHook\n",
    "import pythoncom\n",
    "import os\n",
    "import matplotlib.pyplot as plt\n",
    "import numpy as np\n",
    "import sys\n",
    "import pandas as pd\n",
    "from IPython.display import clear_output\n",
    "import csv\n",
    "import sqlite3\n",
    "import tkinter as tk"
   ]
  },
  {
   "cell_type": "code",
   "execution_count": 2,
   "id": "bc7c441c",
   "metadata": {},
   "outputs": [],
   "source": [
    "con = sqlite3.connect(\"key.db\")\n",
    "cur = con.cursor()\n",
    "cur.execute(\"CREATE TABLE IF NOT EXISTS KeyboardInput(user text, key integer, keyEvent char(10), Time integer)\")\n",
    "userName = ''"
   ]
  },
  {
   "cell_type": "code",
   "execution_count": 3,
   "id": "a4472bd3",
   "metadata": {},
   "outputs": [],
   "source": [
    "def userRecordData(eventList):\n",
    "    sqlite_insert_query = \"\"\"INSERT INTO KeyboardInput\n",
    "                          (user, key, keyEvent, Time) \n",
    "                          VALUES (?, ?, ?, ?);\"\"\"    \n",
    "    cur.executemany(sqlite_insert_query, eventList)\n",
    "    con.commit()\n",
    "\n",
    "def getKeyStroke(self):\n",
    "    \n",
    "    keyLogger = KeyLogger()\n",
    "    hookManager = pyHook.HookManager() #Stworzenie hookManager- rejestruje i zarządza zdarzeniami \n",
    "    hookManager.KeyDown = keyLogger.keyDownEvent #Wykrycie zdarzenia keyDown-uruchomienie przypisanego KeyEvent Keyloggera\n",
    "    hookManager.KeyUp = keyLogger.keyUpEvent #Wykrycie zdarzenia keyUp-uruchomienie przypisanego KeyEvent Keyloggera\n",
    "    hookManager.HookKeyboard() #Oczekuj na zdarzenia z użyciem klawiatury\n",
    "\n",
    "    keyLogger.mainLoop()\n",
    "    # Unhooks the keyboard, no more data recorded, returns to menu\n",
    "    hookManager.UnhookKeyboard()"
   ]
  },
  {
   "cell_type": "code",
   "execution_count": 4,
   "id": "5b6f34cd",
   "metadata": {},
   "outputs": [],
   "source": [
    "class KeyLogger:\n",
    "    def __init__(self):\n",
    "        self.enterPressed = False\n",
    "        self.eventList = []\n",
    "        self.isCaps = False\n",
    "        #self.message = \"\"\n",
    "        \n",
    "    def keyDownEvent(self, event):\n",
    "        if event.KeyID == 20 and self.isCaps == False: \n",
    "            self.isCaps = True\n",
    "        elif event.KeyID == 20 and self.isCaps == True: \n",
    "            self.isCaps = False     \n",
    "        if event.KeyID>= 48 and event.KeyID<=57:  #Obsługa cyfr \n",
    "            event.Ascii = event.KeyID \n",
    "        if self.isCaps == True and event.Ascii>=97 and event.Ascii<=122: #isCaps+ mała litera=duża litera\n",
    "            event.Ascii = event.KeyID\n",
    "        self.storeEvent(\"Down\", event) \n",
    "        return True\n",
    "        \n",
    "\n",
    "    def keyUpEvent(self, event): \n",
    "        if event.KeyID>= 48 and event.KeyID<=57:\n",
    "            event.Ascii = event.KeyID\n",
    "        if self.isCaps == True and event.Ascii>=97 and event.Ascii<=122:\n",
    "            event.Ascii = event.KeyID\n",
    "        print(chr(event.Ascii),end='')\n",
    "        self.storeEvent(\"Up\", event)\n",
    "        return True\n",
    "\n",
    "    def mainLoop(self):\n",
    "        while not self.enterPressed:\n",
    "            pythoncom.PumpWaitingMessages()\n",
    "\n",
    "    def storeEvent(self, activity, event):\n",
    "        keystrokeTime = int(event.Time) #pobranie czasu zdarzenia\n",
    "        self.eventList.append ((userName,event.Ascii,activity, int(keystrokeTime)))\n",
    "\n",
    "        # Użyj ESC do zatwierdzenia wpisywanego zdania \n",
    "        # Enter Key - KeyCode: 13 Ascii: 13 ScanCode: 28 - ESC = 27 @ Ascii\n",
    "        if event.Ascii == 27:\n",
    "            self.enterPressed = True\n",
    "            userRecordData(self.eventList)\n",
    "\n",
    "class App(tk.Frame):\n",
    "    def __init__(self, master=None):\n",
    "        super().__init__(master)\n",
    "        self.pack()\n",
    "        self._frame = None\n",
    "        self.switch_frame(MainPage)\n",
    "\n",
    "    def switch_frame(self, frame_class):\n",
    "        new_frame = frame_class(self)\n",
    "        if self._frame is not None:\n",
    "            self._frame.destroy()\n",
    "        self._frame = new_frame\n",
    "        self._frame.pack()\n",
    "            \n",
    "class MainPage(tk.Frame):\n",
    "    def __init__(self, master):\n",
    "        tk.Frame.__init__(self, master, bg='LightSkyBlue3')\n",
    "        tk.Label(self, text='Weryfikacja', font=('bold', 48), bg='LightSkyBlue3').pack(side=\"top\", fill=\"x\", pady=10)\n",
    "        tk.Button(self, text=\"Dodaj użytkownika\", font=('bold', 24), bg='LightSkyBlue2',\n",
    "                  command=lambda: master.switch_frame(AddUser)).pack(pady=10)\n",
    "        tk.Button(self, text=\"Zweryfikuj użytkownika\", font=('bold', 24), bg='LightSkyBlue2',\n",
    "                  command=lambda: master.switch_frame(PageTwo)).pack(pady=10)  \n",
    "            \n",
    "            \n",
    "class AddUser(tk.Frame):\n",
    "    def __init__(self, master):\n",
    "        tk.Frame.__init__(self, master, bg='LightSkyBlue3')\n",
    "        tk.Label(self, text='Dodanie użytkownika', font=('bold', 48), bg='LightSkyBlue3').pack(side=\"top\", fill=\"x\", pady=10)\n",
    "        tk.Label(self, text='Podaj nazwę użytkownika:', font=('bold', 14), bg='LightSkyBlue3').pack()\n",
    "        self.text_box = tk.Text(self, width=40, height=1)\n",
    "        self.text_box.pack(pady=10)\n",
    "        tk.Button(self, text=\"Zatwierdź\", font=('bold', 24), bg='LightSkyBlue2',\n",
    "                  command=lambda: self.sendUserName()).pack(pady=10)\n",
    "        text_box2 = tk.Text(self, width=40, height=1)\n",
    "        text_box2.pack(pady=10)\n",
    "        text_box2.bind(\"<Key>\", getKeyStroke)\n",
    "        \n",
    "        tk.Button(self, text=\"Dalej\", font=('bold', 24), bg='LightSkyBlue2',\n",
    "                  command=lambda: getKeyStroke()).pack(pady=10)\n",
    "        tk.Button(self, text=\"Powrót do strony głównej\", font=('bold', 24), bg='LightSkyBlue2',\n",
    "                  command=lambda: master.switch_frame(MainPage)).pack(pady=10)\n",
    "        \n",
    "    def sendUserName(self):\n",
    "        global userName\n",
    "        userName = self.text_box.get('1.0', 'end')\n",
    "        print(userName)\n"
   ]
  },
  {
   "cell_type": "code",
   "execution_count": null,
   "id": "0349a1c0",
   "metadata": {},
   "outputs": [
    {
     "name": "stdout",
     "output_type": "stream",
     "text": [
      "ok\n",
      "\n",
      "t\u0000o ja, zweryfikuj mnie"
     ]
    },
    {
     "ename": "OperationalError",
     "evalue": "database is locked",
     "output_type": "error",
     "traceback": [
      "\u001b[1;31m---------------------------------------------------------------------------\u001b[0m",
      "\u001b[1;31mOperationalError\u001b[0m                          Traceback (most recent call last)",
      "\u001b[1;32mD:\\Anaconda\\lib\\site-packages\\pyWinhook\\HookManager.py\u001b[0m in \u001b[0;36mKeyboardSwitch\u001b[1;34m(self, msg, vk_code, scan_code, ascii, flags, time, hwnd, win_name)\u001b[0m\n\u001b[0;32m    349\u001b[0m     \u001b[0mfunc\u001b[0m \u001b[1;33m=\u001b[0m \u001b[0mself\u001b[0m\u001b[1;33m.\u001b[0m\u001b[0mkeyboard_funcs\u001b[0m\u001b[1;33m.\u001b[0m\u001b[0mget\u001b[0m\u001b[1;33m(\u001b[0m\u001b[0mmsg\u001b[0m\u001b[1;33m)\u001b[0m\u001b[1;33m\u001b[0m\u001b[1;33m\u001b[0m\u001b[0m\n\u001b[0;32m    350\u001b[0m     \u001b[1;32mif\u001b[0m \u001b[0mfunc\u001b[0m\u001b[1;33m:\u001b[0m\u001b[1;33m\u001b[0m\u001b[1;33m\u001b[0m\u001b[0m\n\u001b[1;32m--> 351\u001b[1;33m       \u001b[1;32mreturn\u001b[0m \u001b[0mfunc\u001b[0m\u001b[1;33m(\u001b[0m\u001b[0mevent\u001b[0m\u001b[1;33m)\u001b[0m\u001b[1;33m\u001b[0m\u001b[1;33m\u001b[0m\u001b[0m\n\u001b[0m\u001b[0;32m    352\u001b[0m     \u001b[1;32melse\u001b[0m\u001b[1;33m:\u001b[0m\u001b[1;33m\u001b[0m\u001b[1;33m\u001b[0m\u001b[0m\n\u001b[0;32m    353\u001b[0m       \u001b[1;32mreturn\u001b[0m \u001b[1;32mTrue\u001b[0m\u001b[1;33m\u001b[0m\u001b[1;33m\u001b[0m\u001b[0m\n",
      "\u001b[1;32m~\\AppData\\Local\\Temp\\ipykernel_22024\\2168974865.py\u001b[0m in \u001b[0;36mkeyDownEvent\u001b[1;34m(self, event)\u001b[0m\n\u001b[0;32m     15\u001b[0m         \u001b[1;32mif\u001b[0m \u001b[0mself\u001b[0m\u001b[1;33m.\u001b[0m\u001b[0misCaps\u001b[0m \u001b[1;33m==\u001b[0m \u001b[1;32mTrue\u001b[0m \u001b[1;32mand\u001b[0m \u001b[0mevent\u001b[0m\u001b[1;33m.\u001b[0m\u001b[0mAscii\u001b[0m\u001b[1;33m>=\u001b[0m\u001b[1;36m97\u001b[0m \u001b[1;32mand\u001b[0m \u001b[0mevent\u001b[0m\u001b[1;33m.\u001b[0m\u001b[0mAscii\u001b[0m\u001b[1;33m<=\u001b[0m\u001b[1;36m122\u001b[0m\u001b[1;33m:\u001b[0m \u001b[1;31m#isCaps+ mała litera=duża litera\u001b[0m\u001b[1;33m\u001b[0m\u001b[1;33m\u001b[0m\u001b[0m\n\u001b[0;32m     16\u001b[0m             \u001b[0mevent\u001b[0m\u001b[1;33m.\u001b[0m\u001b[0mAscii\u001b[0m \u001b[1;33m=\u001b[0m \u001b[0mevent\u001b[0m\u001b[1;33m.\u001b[0m\u001b[0mKeyID\u001b[0m\u001b[1;33m\u001b[0m\u001b[1;33m\u001b[0m\u001b[0m\n\u001b[1;32m---> 17\u001b[1;33m         \u001b[0mself\u001b[0m\u001b[1;33m.\u001b[0m\u001b[0mstoreEvent\u001b[0m\u001b[1;33m(\u001b[0m\u001b[1;34m\"Down\"\u001b[0m\u001b[1;33m,\u001b[0m \u001b[0mevent\u001b[0m\u001b[1;33m)\u001b[0m\u001b[1;33m\u001b[0m\u001b[1;33m\u001b[0m\u001b[0m\n\u001b[0m\u001b[0;32m     18\u001b[0m         \u001b[1;32mreturn\u001b[0m \u001b[1;32mTrue\u001b[0m\u001b[1;33m\u001b[0m\u001b[1;33m\u001b[0m\u001b[0m\n\u001b[0;32m     19\u001b[0m \u001b[1;33m\u001b[0m\u001b[0m\n",
      "\u001b[1;32m~\\AppData\\Local\\Temp\\ipykernel_22024\\2168974865.py\u001b[0m in \u001b[0;36mstoreEvent\u001b[1;34m(self, activity, event)\u001b[0m\n\u001b[0;32m     40\u001b[0m         \u001b[1;32mif\u001b[0m \u001b[0mevent\u001b[0m\u001b[1;33m.\u001b[0m\u001b[0mAscii\u001b[0m \u001b[1;33m==\u001b[0m \u001b[1;36m27\u001b[0m\u001b[1;33m:\u001b[0m\u001b[1;33m\u001b[0m\u001b[1;33m\u001b[0m\u001b[0m\n\u001b[0;32m     41\u001b[0m             \u001b[0mself\u001b[0m\u001b[1;33m.\u001b[0m\u001b[0menterPressed\u001b[0m \u001b[1;33m=\u001b[0m \u001b[1;32mTrue\u001b[0m\u001b[1;33m\u001b[0m\u001b[1;33m\u001b[0m\u001b[0m\n\u001b[1;32m---> 42\u001b[1;33m             \u001b[0muserRecordData\u001b[0m\u001b[1;33m(\u001b[0m\u001b[0mself\u001b[0m\u001b[1;33m.\u001b[0m\u001b[0meventList\u001b[0m\u001b[1;33m)\u001b[0m\u001b[1;33m\u001b[0m\u001b[1;33m\u001b[0m\u001b[0m\n\u001b[0m\u001b[0;32m     43\u001b[0m \u001b[1;33m\u001b[0m\u001b[0m\n\u001b[0;32m     44\u001b[0m \u001b[1;32mclass\u001b[0m \u001b[0mApp\u001b[0m\u001b[1;33m(\u001b[0m\u001b[0mtk\u001b[0m\u001b[1;33m.\u001b[0m\u001b[0mFrame\u001b[0m\u001b[1;33m)\u001b[0m\u001b[1;33m:\u001b[0m\u001b[1;33m\u001b[0m\u001b[1;33m\u001b[0m\u001b[0m\n",
      "\u001b[1;32m~\\AppData\\Local\\Temp\\ipykernel_22024\\3311723641.py\u001b[0m in \u001b[0;36muserRecordData\u001b[1;34m(eventList)\u001b[0m\n\u001b[0;32m      3\u001b[0m                           \u001b[1;33m(\u001b[0m\u001b[0muser\u001b[0m\u001b[1;33m,\u001b[0m \u001b[0mkey\u001b[0m\u001b[1;33m,\u001b[0m \u001b[0mkeyEvent\u001b[0m\u001b[1;33m,\u001b[0m \u001b[0mTime\u001b[0m\u001b[1;33m)\u001b[0m\u001b[1;33m\u001b[0m\u001b[1;33m\u001b[0m\u001b[0m\n\u001b[0;32m      4\u001b[0m                           VALUES (?, ?, ?, ?);\"\"\"    \n\u001b[1;32m----> 5\u001b[1;33m     \u001b[0mcur\u001b[0m\u001b[1;33m.\u001b[0m\u001b[0mexecutemany\u001b[0m\u001b[1;33m(\u001b[0m\u001b[0msqlite_insert_query\u001b[0m\u001b[1;33m,\u001b[0m \u001b[0meventList\u001b[0m\u001b[1;33m)\u001b[0m\u001b[1;33m\u001b[0m\u001b[1;33m\u001b[0m\u001b[0m\n\u001b[0m\u001b[0;32m      6\u001b[0m     \u001b[0mcon\u001b[0m\u001b[1;33m.\u001b[0m\u001b[0mcommit\u001b[0m\u001b[1;33m(\u001b[0m\u001b[1;33m)\u001b[0m\u001b[1;33m\u001b[0m\u001b[1;33m\u001b[0m\u001b[0m\n\u001b[0;32m      7\u001b[0m     \u001b[0mApp\u001b[0m\u001b[1;33m.\u001b[0m\u001b[0mswitch_frame\u001b[0m\u001b[1;33m(\u001b[0m\u001b[0mMainPage\u001b[0m\u001b[1;33m)\u001b[0m\u001b[1;33m\u001b[0m\u001b[1;33m\u001b[0m\u001b[0m\n",
      "\u001b[1;31mOperationalError\u001b[0m: database is locked"
     ]
    }
   ],
   "source": [
    "myapp = App()\n",
    "myapp.master.title(\"App\")\n",
    "myapp.master.minsize(50, 50)\n",
    "myapp.mainloop()"
   ]
  },
  {
   "cell_type": "code",
   "execution_count": null,
   "id": "277caf2d",
   "metadata": {},
   "outputs": [],
   "source": []
  },
  {
   "cell_type": "code",
   "execution_count": null,
   "id": "947067f5",
   "metadata": {},
   "outputs": [],
   "source": []
  }
 ],
 "metadata": {
  "kernelspec": {
   "display_name": "Python 3 (ipykernel)",
   "language": "python",
   "name": "python3"
  },
  "language_info": {
   "codemirror_mode": {
    "name": "ipython",
    "version": 3
   },
   "file_extension": ".py",
   "mimetype": "text/x-python",
   "name": "python",
   "nbconvert_exporter": "python",
   "pygments_lexer": "ipython3",
   "version": "3.9.13"
  }
 },
 "nbformat": 4,
 "nbformat_minor": 5
}
